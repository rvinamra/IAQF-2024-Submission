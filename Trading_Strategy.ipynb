{
  "nbformat": 4,
  "nbformat_minor": 0,
  "metadata": {
    "colab": {
      "provenance": []
    },
    "kernelspec": {
      "name": "python3",
      "display_name": "Python 3"
    },
    "language_info": {
      "name": "python"
    }
  },
  "cells": [
    {
      "cell_type": "markdown",
      "source": [
        "This notebooks lays out the trading strategy based on VIX prediction and its corresponding backtesting results."
      ],
      "metadata": {
        "id": "QMRGTafza9Bt"
      }
    },
    {
      "cell_type": "code",
      "source": [
        "import warnings\n",
        "warnings.filterwarnings(\"ignore\", message=\"The frame.append method is deprecated\")\n",
        "warnings.filterwarnings(\"ignore\", category=FutureWarning)"
      ],
      "metadata": {
        "id": "DlC-GGob-2Za"
      },
      "execution_count": 1,
      "outputs": []
    },
    {
      "cell_type": "code",
      "execution_count": 2,
      "metadata": {
        "colab": {
          "base_uri": "https://localhost:8080/"
        },
        "id": "3z79ZGdAFRjV",
        "outputId": "9b125c96-3797-4174-ceb5-a2a6185c397f"
      },
      "outputs": [
        {
          "output_type": "stream",
          "name": "stdout",
          "text": [
            "Mounted at /content/drive\n"
          ]
        }
      ],
      "source": [
        "from google.colab import drive\n",
        "drive.mount('/content/drive')"
      ]
    },
    {
      "cell_type": "code",
      "source": [
        "import pandas as pd\n",
        "import numpy as np\n",
        "import matplotlib.pyplot as plt"
      ],
      "metadata": {
        "id": "yu_dQQDZFWHV"
      },
      "execution_count": 3,
      "outputs": []
    },
    {
      "cell_type": "code",
      "source": [
        "trading_data = pd.read_csv('/content/drive/My Drive/IAQF_Data/trading_signals (2).csv')\n",
        "trading_data.head()"
      ],
      "metadata": {
        "colab": {
          "base_uri": "https://localhost:8080/",
          "height": 342
        },
        "id": "Ha1yBY2GFWxe",
        "outputId": "baff2b7f-1b5d-4624-e6ee-92bce5457a25"
      },
      "execution_count": 4,
      "outputs": [
        {
          "output_type": "execute_result",
          "data": {
            "text/plain": [
              "         Date         Open         High          Low        Close  \\\n",
              "0  2007-01-31  1428.650024  1441.609985  1424.780029  1438.239990   \n",
              "1  2007-02-01  1437.900024  1446.640015  1437.900024  1445.939941   \n",
              "2  2007-02-02  1445.939941  1449.329956  1444.489990  1448.390015   \n",
              "3  2007-02-05  1448.329956  1449.380005  1443.849976  1446.989990   \n",
              "4  2007-02-06  1446.979980  1450.189941  1443.400024  1448.000000   \n",
              "\n",
              "     Adj Close      Volume  daily_return  30_day_forward_avg_return  \\\n",
              "0  1438.239990  2976690000      0.659288                  -0.104071   \n",
              "1  1445.939941  2914890000      0.535373                  -0.134678   \n",
              "2  1448.390015  2569450000      0.169445                  -0.104011   \n",
              "3  1446.989990  2439430000     -0.096661                  -0.079677   \n",
              "4  1448.000000  2608710000      0.069801                  -0.025068   \n",
              "\n",
              "   30_day_forward_volatility  ...  VIX_Settlement  LSTM_Predicted  \\\n",
              "0                   2.176811  ...       16.430000       12.356617   \n",
              "1                   2.539403  ...       16.790001       12.701176   \n",
              "2                   2.704556  ...       14.590000       13.302481   \n",
              "3                   2.682342  ...       13.270000       13.649921   \n",
              "4                   2.732542  ...       12.190000       13.637209   \n",
              "\n",
              "   Trade_Signal_SPX  30d_MA_VIX  SP500_Returns  Strategy_Returns_SPX  \\\n",
              "0              Hold         NaN       0.000000              0.000000   \n",
              "1              Hold         NaN       0.005354              0.005354   \n",
              "2              Hold         NaN       0.001694              0.001694   \n",
              "3              Hold         NaN      -0.000967             -0.000967   \n",
              "4              Hold         NaN       0.000698              0.000698   \n",
              "\n",
              "   Cumulative_Returns  SP500_Cumulative_Returns  Cumulative_Returns_TSL  \\\n",
              "0                 1.0                  1.000000                     1.0   \n",
              "1                 1.0                  1.005354                     1.0   \n",
              "2                 1.0                  1.007057                     1.0   \n",
              "3                 1.0                  1.006084                     1.0   \n",
              "4                 1.0                  1.006786                     1.0   \n",
              "\n",
              "   Strategy_Returns_Combined  \n",
              "0                        0.0  \n",
              "1                        0.0  \n",
              "2                        0.0  \n",
              "3                        0.0  \n",
              "4                        0.0  \n",
              "\n",
              "[5 rows x 30 columns]"
            ],
            "text/html": [
              "\n",
              "  <div id=\"df-10a838a5-d1cf-4520-8447-e14a13e2eb67\" class=\"colab-df-container\">\n",
              "    <div>\n",
              "<style scoped>\n",
              "    .dataframe tbody tr th:only-of-type {\n",
              "        vertical-align: middle;\n",
              "    }\n",
              "\n",
              "    .dataframe tbody tr th {\n",
              "        vertical-align: top;\n",
              "    }\n",
              "\n",
              "    .dataframe thead th {\n",
              "        text-align: right;\n",
              "    }\n",
              "</style>\n",
              "<table border=\"1\" class=\"dataframe\">\n",
              "  <thead>\n",
              "    <tr style=\"text-align: right;\">\n",
              "      <th></th>\n",
              "      <th>Date</th>\n",
              "      <th>Open</th>\n",
              "      <th>High</th>\n",
              "      <th>Low</th>\n",
              "      <th>Close</th>\n",
              "      <th>Adj Close</th>\n",
              "      <th>Volume</th>\n",
              "      <th>daily_return</th>\n",
              "      <th>30_day_forward_avg_return</th>\n",
              "      <th>30_day_forward_volatility</th>\n",
              "      <th>...</th>\n",
              "      <th>VIX_Settlement</th>\n",
              "      <th>LSTM_Predicted</th>\n",
              "      <th>Trade_Signal_SPX</th>\n",
              "      <th>30d_MA_VIX</th>\n",
              "      <th>SP500_Returns</th>\n",
              "      <th>Strategy_Returns_SPX</th>\n",
              "      <th>Cumulative_Returns</th>\n",
              "      <th>SP500_Cumulative_Returns</th>\n",
              "      <th>Cumulative_Returns_TSL</th>\n",
              "      <th>Strategy_Returns_Combined</th>\n",
              "    </tr>\n",
              "  </thead>\n",
              "  <tbody>\n",
              "    <tr>\n",
              "      <th>0</th>\n",
              "      <td>2007-01-31</td>\n",
              "      <td>1428.650024</td>\n",
              "      <td>1441.609985</td>\n",
              "      <td>1424.780029</td>\n",
              "      <td>1438.239990</td>\n",
              "      <td>1438.239990</td>\n",
              "      <td>2976690000</td>\n",
              "      <td>0.659288</td>\n",
              "      <td>-0.104071</td>\n",
              "      <td>2.176811</td>\n",
              "      <td>...</td>\n",
              "      <td>16.430000</td>\n",
              "      <td>12.356617</td>\n",
              "      <td>Hold</td>\n",
              "      <td>NaN</td>\n",
              "      <td>0.000000</td>\n",
              "      <td>0.000000</td>\n",
              "      <td>1.0</td>\n",
              "      <td>1.000000</td>\n",
              "      <td>1.0</td>\n",
              "      <td>0.0</td>\n",
              "    </tr>\n",
              "    <tr>\n",
              "      <th>1</th>\n",
              "      <td>2007-02-01</td>\n",
              "      <td>1437.900024</td>\n",
              "      <td>1446.640015</td>\n",
              "      <td>1437.900024</td>\n",
              "      <td>1445.939941</td>\n",
              "      <td>1445.939941</td>\n",
              "      <td>2914890000</td>\n",
              "      <td>0.535373</td>\n",
              "      <td>-0.134678</td>\n",
              "      <td>2.539403</td>\n",
              "      <td>...</td>\n",
              "      <td>16.790001</td>\n",
              "      <td>12.701176</td>\n",
              "      <td>Hold</td>\n",
              "      <td>NaN</td>\n",
              "      <td>0.005354</td>\n",
              "      <td>0.005354</td>\n",
              "      <td>1.0</td>\n",
              "      <td>1.005354</td>\n",
              "      <td>1.0</td>\n",
              "      <td>0.0</td>\n",
              "    </tr>\n",
              "    <tr>\n",
              "      <th>2</th>\n",
              "      <td>2007-02-02</td>\n",
              "      <td>1445.939941</td>\n",
              "      <td>1449.329956</td>\n",
              "      <td>1444.489990</td>\n",
              "      <td>1448.390015</td>\n",
              "      <td>1448.390015</td>\n",
              "      <td>2569450000</td>\n",
              "      <td>0.169445</td>\n",
              "      <td>-0.104011</td>\n",
              "      <td>2.704556</td>\n",
              "      <td>...</td>\n",
              "      <td>14.590000</td>\n",
              "      <td>13.302481</td>\n",
              "      <td>Hold</td>\n",
              "      <td>NaN</td>\n",
              "      <td>0.001694</td>\n",
              "      <td>0.001694</td>\n",
              "      <td>1.0</td>\n",
              "      <td>1.007057</td>\n",
              "      <td>1.0</td>\n",
              "      <td>0.0</td>\n",
              "    </tr>\n",
              "    <tr>\n",
              "      <th>3</th>\n",
              "      <td>2007-02-05</td>\n",
              "      <td>1448.329956</td>\n",
              "      <td>1449.380005</td>\n",
              "      <td>1443.849976</td>\n",
              "      <td>1446.989990</td>\n",
              "      <td>1446.989990</td>\n",
              "      <td>2439430000</td>\n",
              "      <td>-0.096661</td>\n",
              "      <td>-0.079677</td>\n",
              "      <td>2.682342</td>\n",
              "      <td>...</td>\n",
              "      <td>13.270000</td>\n",
              "      <td>13.649921</td>\n",
              "      <td>Hold</td>\n",
              "      <td>NaN</td>\n",
              "      <td>-0.000967</td>\n",
              "      <td>-0.000967</td>\n",
              "      <td>1.0</td>\n",
              "      <td>1.006084</td>\n",
              "      <td>1.0</td>\n",
              "      <td>0.0</td>\n",
              "    </tr>\n",
              "    <tr>\n",
              "      <th>4</th>\n",
              "      <td>2007-02-06</td>\n",
              "      <td>1446.979980</td>\n",
              "      <td>1450.189941</td>\n",
              "      <td>1443.400024</td>\n",
              "      <td>1448.000000</td>\n",
              "      <td>1448.000000</td>\n",
              "      <td>2608710000</td>\n",
              "      <td>0.069801</td>\n",
              "      <td>-0.025068</td>\n",
              "      <td>2.732542</td>\n",
              "      <td>...</td>\n",
              "      <td>12.190000</td>\n",
              "      <td>13.637209</td>\n",
              "      <td>Hold</td>\n",
              "      <td>NaN</td>\n",
              "      <td>0.000698</td>\n",
              "      <td>0.000698</td>\n",
              "      <td>1.0</td>\n",
              "      <td>1.006786</td>\n",
              "      <td>1.0</td>\n",
              "      <td>0.0</td>\n",
              "    </tr>\n",
              "  </tbody>\n",
              "</table>\n",
              "<p>5 rows × 30 columns</p>\n",
              "</div>\n",
              "    <div class=\"colab-df-buttons\">\n",
              "\n",
              "  <div class=\"colab-df-container\">\n",
              "    <button class=\"colab-df-convert\" onclick=\"convertToInteractive('df-10a838a5-d1cf-4520-8447-e14a13e2eb67')\"\n",
              "            title=\"Convert this dataframe to an interactive table.\"\n",
              "            style=\"display:none;\">\n",
              "\n",
              "  <svg xmlns=\"http://www.w3.org/2000/svg\" height=\"24px\" viewBox=\"0 -960 960 960\">\n",
              "    <path d=\"M120-120v-720h720v720H120Zm60-500h600v-160H180v160Zm220 220h160v-160H400v160Zm0 220h160v-160H400v160ZM180-400h160v-160H180v160Zm440 0h160v-160H620v160ZM180-180h160v-160H180v160Zm440 0h160v-160H620v160Z\"/>\n",
              "  </svg>\n",
              "    </button>\n",
              "\n",
              "  <style>\n",
              "    .colab-df-container {\n",
              "      display:flex;\n",
              "      gap: 12px;\n",
              "    }\n",
              "\n",
              "    .colab-df-convert {\n",
              "      background-color: #E8F0FE;\n",
              "      border: none;\n",
              "      border-radius: 50%;\n",
              "      cursor: pointer;\n",
              "      display: none;\n",
              "      fill: #1967D2;\n",
              "      height: 32px;\n",
              "      padding: 0 0 0 0;\n",
              "      width: 32px;\n",
              "    }\n",
              "\n",
              "    .colab-df-convert:hover {\n",
              "      background-color: #E2EBFA;\n",
              "      box-shadow: 0px 1px 2px rgba(60, 64, 67, 0.3), 0px 1px 3px 1px rgba(60, 64, 67, 0.15);\n",
              "      fill: #174EA6;\n",
              "    }\n",
              "\n",
              "    .colab-df-buttons div {\n",
              "      margin-bottom: 4px;\n",
              "    }\n",
              "\n",
              "    [theme=dark] .colab-df-convert {\n",
              "      background-color: #3B4455;\n",
              "      fill: #D2E3FC;\n",
              "    }\n",
              "\n",
              "    [theme=dark] .colab-df-convert:hover {\n",
              "      background-color: #434B5C;\n",
              "      box-shadow: 0px 1px 3px 1px rgba(0, 0, 0, 0.15);\n",
              "      filter: drop-shadow(0px 1px 2px rgba(0, 0, 0, 0.3));\n",
              "      fill: #FFFFFF;\n",
              "    }\n",
              "  </style>\n",
              "\n",
              "    <script>\n",
              "      const buttonEl =\n",
              "        document.querySelector('#df-10a838a5-d1cf-4520-8447-e14a13e2eb67 button.colab-df-convert');\n",
              "      buttonEl.style.display =\n",
              "        google.colab.kernel.accessAllowed ? 'block' : 'none';\n",
              "\n",
              "      async function convertToInteractive(key) {\n",
              "        const element = document.querySelector('#df-10a838a5-d1cf-4520-8447-e14a13e2eb67');\n",
              "        const dataTable =\n",
              "          await google.colab.kernel.invokeFunction('convertToInteractive',\n",
              "                                                    [key], {});\n",
              "        if (!dataTable) return;\n",
              "\n",
              "        const docLinkHtml = 'Like what you see? Visit the ' +\n",
              "          '<a target=\"_blank\" href=https://colab.research.google.com/notebooks/data_table.ipynb>data table notebook</a>'\n",
              "          + ' to learn more about interactive tables.';\n",
              "        element.innerHTML = '';\n",
              "        dataTable['output_type'] = 'display_data';\n",
              "        await google.colab.output.renderOutput(dataTable, element);\n",
              "        const docLink = document.createElement('div');\n",
              "        docLink.innerHTML = docLinkHtml;\n",
              "        element.appendChild(docLink);\n",
              "      }\n",
              "    </script>\n",
              "  </div>\n",
              "\n",
              "\n",
              "<div id=\"df-5c6bfe78-8e02-45b4-ac86-6c1dc1238b52\">\n",
              "  <button class=\"colab-df-quickchart\" onclick=\"quickchart('df-5c6bfe78-8e02-45b4-ac86-6c1dc1238b52')\"\n",
              "            title=\"Suggest charts\"\n",
              "            style=\"display:none;\">\n",
              "\n",
              "<svg xmlns=\"http://www.w3.org/2000/svg\" height=\"24px\"viewBox=\"0 0 24 24\"\n",
              "     width=\"24px\">\n",
              "    <g>\n",
              "        <path d=\"M19 3H5c-1.1 0-2 .9-2 2v14c0 1.1.9 2 2 2h14c1.1 0 2-.9 2-2V5c0-1.1-.9-2-2-2zM9 17H7v-7h2v7zm4 0h-2V7h2v10zm4 0h-2v-4h2v4z\"/>\n",
              "    </g>\n",
              "</svg>\n",
              "  </button>\n",
              "\n",
              "<style>\n",
              "  .colab-df-quickchart {\n",
              "      --bg-color: #E8F0FE;\n",
              "      --fill-color: #1967D2;\n",
              "      --hover-bg-color: #E2EBFA;\n",
              "      --hover-fill-color: #174EA6;\n",
              "      --disabled-fill-color: #AAA;\n",
              "      --disabled-bg-color: #DDD;\n",
              "  }\n",
              "\n",
              "  [theme=dark] .colab-df-quickchart {\n",
              "      --bg-color: #3B4455;\n",
              "      --fill-color: #D2E3FC;\n",
              "      --hover-bg-color: #434B5C;\n",
              "      --hover-fill-color: #FFFFFF;\n",
              "      --disabled-bg-color: #3B4455;\n",
              "      --disabled-fill-color: #666;\n",
              "  }\n",
              "\n",
              "  .colab-df-quickchart {\n",
              "    background-color: var(--bg-color);\n",
              "    border: none;\n",
              "    border-radius: 50%;\n",
              "    cursor: pointer;\n",
              "    display: none;\n",
              "    fill: var(--fill-color);\n",
              "    height: 32px;\n",
              "    padding: 0;\n",
              "    width: 32px;\n",
              "  }\n",
              "\n",
              "  .colab-df-quickchart:hover {\n",
              "    background-color: var(--hover-bg-color);\n",
              "    box-shadow: 0 1px 2px rgba(60, 64, 67, 0.3), 0 1px 3px 1px rgba(60, 64, 67, 0.15);\n",
              "    fill: var(--button-hover-fill-color);\n",
              "  }\n",
              "\n",
              "  .colab-df-quickchart-complete:disabled,\n",
              "  .colab-df-quickchart-complete:disabled:hover {\n",
              "    background-color: var(--disabled-bg-color);\n",
              "    fill: var(--disabled-fill-color);\n",
              "    box-shadow: none;\n",
              "  }\n",
              "\n",
              "  .colab-df-spinner {\n",
              "    border: 2px solid var(--fill-color);\n",
              "    border-color: transparent;\n",
              "    border-bottom-color: var(--fill-color);\n",
              "    animation:\n",
              "      spin 1s steps(1) infinite;\n",
              "  }\n",
              "\n",
              "  @keyframes spin {\n",
              "    0% {\n",
              "      border-color: transparent;\n",
              "      border-bottom-color: var(--fill-color);\n",
              "      border-left-color: var(--fill-color);\n",
              "    }\n",
              "    20% {\n",
              "      border-color: transparent;\n",
              "      border-left-color: var(--fill-color);\n",
              "      border-top-color: var(--fill-color);\n",
              "    }\n",
              "    30% {\n",
              "      border-color: transparent;\n",
              "      border-left-color: var(--fill-color);\n",
              "      border-top-color: var(--fill-color);\n",
              "      border-right-color: var(--fill-color);\n",
              "    }\n",
              "    40% {\n",
              "      border-color: transparent;\n",
              "      border-right-color: var(--fill-color);\n",
              "      border-top-color: var(--fill-color);\n",
              "    }\n",
              "    60% {\n",
              "      border-color: transparent;\n",
              "      border-right-color: var(--fill-color);\n",
              "    }\n",
              "    80% {\n",
              "      border-color: transparent;\n",
              "      border-right-color: var(--fill-color);\n",
              "      border-bottom-color: var(--fill-color);\n",
              "    }\n",
              "    90% {\n",
              "      border-color: transparent;\n",
              "      border-bottom-color: var(--fill-color);\n",
              "    }\n",
              "  }\n",
              "</style>\n",
              "\n",
              "  <script>\n",
              "    async function quickchart(key) {\n",
              "      const quickchartButtonEl =\n",
              "        document.querySelector('#' + key + ' button');\n",
              "      quickchartButtonEl.disabled = true;  // To prevent multiple clicks.\n",
              "      quickchartButtonEl.classList.add('colab-df-spinner');\n",
              "      try {\n",
              "        const charts = await google.colab.kernel.invokeFunction(\n",
              "            'suggestCharts', [key], {});\n",
              "      } catch (error) {\n",
              "        console.error('Error during call to suggestCharts:', error);\n",
              "      }\n",
              "      quickchartButtonEl.classList.remove('colab-df-spinner');\n",
              "      quickchartButtonEl.classList.add('colab-df-quickchart-complete');\n",
              "    }\n",
              "    (() => {\n",
              "      let quickchartButtonEl =\n",
              "        document.querySelector('#df-5c6bfe78-8e02-45b4-ac86-6c1dc1238b52 button');\n",
              "      quickchartButtonEl.style.display =\n",
              "        google.colab.kernel.accessAllowed ? 'block' : 'none';\n",
              "    })();\n",
              "  </script>\n",
              "</div>\n",
              "\n",
              "    </div>\n",
              "  </div>\n"
            ],
            "application/vnd.google.colaboratory.intrinsic+json": {
              "type": "dataframe",
              "variable_name": "trading_data"
            }
          },
          "metadata": {},
          "execution_count": 4
        }
      ]
    },
    {
      "cell_type": "code",
      "source": [
        "trading_data['Date'] = pd.to_datetime(trading_data['Date'])\n",
        "merged_data_final = trading_data[trading_data['Date'] >= pd.Timestamp('2008-01-01')]"
      ],
      "metadata": {
        "id": "xKbVT6vE6-jH"
      },
      "execution_count": 5,
      "outputs": []
    },
    {
      "cell_type": "code",
      "source": [
        "def calculate_sharpe_ratio_corrected(returns, annual_risk_free_rate):\n",
        "    # Convert annual risk-free rate to daily risk-free rate\n",
        "    daily_risk_free_rate = (1 + annual_risk_free_rate) ** (1/252) - 1\n",
        "\n",
        "    # Calculate daily excess returns\n",
        "    daily_excess_returns = returns - daily_risk_free_rate\n",
        "\n",
        "    # Calculate the annualized Sharpe ratio\n",
        "    sharpe_ratio = daily_excess_returns.mean() / daily_excess_returns.std() * np.sqrt(252)\n",
        "    return sharpe_ratio\n",
        "\n",
        "merged_data_final['Trade_Signal_SPX'] = 0\n",
        "\n",
        "# Calculate the 20-day moving average of the VIX (Adj Close_VIX)\n",
        "merged_data_final['30d_MA_VIX'] = merged_data_final['Adj Close_VIX'].rolling(window=30).mean()\n",
        "\n",
        "# Define the trading signal\n",
        "# Long on S&P500 if predicted VIX (LSTM_Predicted) is lower than the 30-day MA of VIX, otherwise short\n",
        "def determine_trade_signal(row):\n",
        "    if row['LSTM_Predicted'] < 1.2 * row['30d_MA_VIX']:\n",
        "        return 'Long'\n",
        "    elif row['LSTM_Predicted'] > 1.2 * row['30d_MA_VIX']:\n",
        "        return 'Short'\n",
        "    else:\n",
        "        return 'Hold'\n",
        "\n",
        "merged_data_final['Trade_Signal_SPX'] = merged_data_final.apply(determine_trade_signal, axis=1)\n",
        "\n",
        "\n",
        "# Calculate daily returns for S&P500\n",
        "merged_data_final['SP500_Returns'] = merged_data_final['Adj Close'].pct_change().fillna(0)\n",
        "\n",
        "# Apply the trading strategy\n",
        "# If Long, use the S&P500 return, if Short, use the negative of the S&P500 return\n",
        "\n",
        "def calculate_strategy_returns(row):\n",
        "    if row['Trade_Signal_SPX'] == 'Long':\n",
        "        return row['SP500_Returns']\n",
        "    elif row['Trade_Signal_SPX'] == 'Short':\n",
        "        return -row['SP500_Returns']\n",
        "    else:\n",
        "        return 0\n",
        "\n",
        "def calculate_onlylong_strategy_returns(row):\n",
        "    if row['Trade_Signal_SPX'] == 'Long':\n",
        "        return row['SP500_Returns']\n",
        "    elif row['Trade_Signal_SPX'] == 'Short':\n",
        "        return 0\n",
        "    else:\n",
        "        return 0\n",
        "\n",
        "def calculate_onlyshort_strategy_returns(row):\n",
        "    if row['Trade_Signal_SPX'] == 'Long':\n",
        "        return 0\n",
        "    elif row['Trade_Signal_SPX'] == 'Short':\n",
        "        return -row['SP500_Returns']\n",
        "    else:\n",
        "        return 0\n",
        "\n",
        "merged_data_final['Strategy_Returns_LS'] = merged_data_final.apply(calculate_strategy_returns, axis=1)\n",
        "merged_data_final['Strategy_Returns_L'] = merged_data_final.apply(calculate_onlylong_strategy_returns, axis=1)\n",
        "merged_data_final['Strategy_Returns_S'] = merged_data_final.apply(calculate_onlyshort_strategy_returns, axis=1)\n",
        "\n",
        "# Calculate cumulative returns\n",
        "merged_data_final['Cumulative_Returns_LS'] = (1 + merged_data_final['Strategy_Returns_LS']).cumprod()\n",
        "merged_data_final['Cumulative_Returns_Long'] = (1 + merged_data_final['Strategy_Returns_L']).cumprod()\n",
        "merged_data_final['Cumulative_Returns_Short'] = (1 + merged_data_final['Strategy_Returns_S']).cumprod()\n",
        "\n",
        "# Calculate the number of years in the dataset for CAGR calculation\n",
        "num_years = (merged_data_final['Date'].iloc[-1] - merged_data_final['Date'].iloc[0]).days / 365.25\n",
        "\n",
        "# Risk-free rate for Sharpe Ratio calculation\n",
        "risk_free_rate = 0.0426"
      ],
      "metadata": {
        "id": "oFOFTKgx7MXc"
      },
      "execution_count": null,
      "outputs": []
    },
    {
      "cell_type": "code",
      "source": [
        "merged_data_final['SP500_Cumulative_Returns'] = (1 + merged_data_final['SP500_Returns']).cumprod()"
      ],
      "metadata": {
        "colab": {
          "base_uri": "https://localhost:8080/"
        },
        "id": "4hutJp7j7Qcs",
        "outputId": "bbd4e376-594f-4472-9c29-19ac16f2385b"
      },
      "execution_count": 7,
      "outputs": [
        {
          "output_type": "stream",
          "name": "stderr",
          "text": [
            "<ipython-input-7-d10dd6c13553>:1: SettingWithCopyWarning: \n",
            "A value is trying to be set on a copy of a slice from a DataFrame.\n",
            "Try using .loc[row_indexer,col_indexer] = value instead\n",
            "\n",
            "See the caveats in the documentation: https://pandas.pydata.org/pandas-docs/stable/user_guide/indexing.html#returning-a-view-versus-a-copy\n",
            "  merged_data_final['SP500_Cumulative_Returns'] = (1 + merged_data_final['SP500_Returns']).cumprod()\n"
          ]
        }
      ]
    },
    {
      "cell_type": "code",
      "source": [
        "def calculate_max_drawdown(cumulative_returns):\n",
        "    \"\"\"\n",
        "    Calculate the maximum drawdown of the trading strategy.\n",
        "\n",
        "    :param cumulative_returns: Series of cumulative returns of the strategy.\n",
        "    :return: Maximum drawdown in percentage.\n",
        "    \"\"\"\n",
        "    # Calculate the running maximum\n",
        "    running_max = cumulative_returns.cummax()\n",
        "    # Calculate the drawdown\n",
        "    drawdown = (cumulative_returns - running_max) / running_max\n",
        "    # Calculate the maximum drawdown\n",
        "    max_drawdown = drawdown.min()\n",
        "    return max_drawdown"
      ],
      "metadata": {
        "id": "ypVegeFj7TU_"
      },
      "execution_count": 8,
      "outputs": []
    },
    {
      "cell_type": "code",
      "source": [
        "def apply_trailing_stop_loss_strategy(cumulative_returns, trade_signals, trailing_stop_loss_percent):\n",
        "    \"\"\"\n",
        "    Apply a trailing stop-loss strategy to both long and short positions in the trading strategy.\n",
        "\n",
        "    :param cumulative_returns: Series of cumulative returns of the strategy.\n",
        "    :param trade_signals: Series of trade signals ('Long', 'Short', or other).\n",
        "    :param trailing_stop_loss_percent: Trailing stop-loss percentage (in decimal format).\n",
        "    :return: Series with updated cumulative returns applying the trailing stop-loss strategy.\n",
        "    \"\"\"\n",
        "    peak_value = 1.0\n",
        "    trough_value = 1.0\n",
        "    stop_loss_value = 1.0\n",
        "    updated_cumulative_returns = cumulative_returns.copy()\n",
        "\n",
        "    for i in range(len(cumulative_returns)):\n",
        "        current_signal = trade_signals.iloc[i]\n",
        "        current_return = cumulative_returns.iloc[i]\n",
        "\n",
        "        if current_signal == 'Long':\n",
        "            if peak_value is None or current_return > peak_value:\n",
        "                peak_value = current_return\n",
        "                stop_loss_value = peak_value * (1 - trailing_stop_loss_percent)\n",
        "            elif current_return < stop_loss_value:\n",
        "                updated_cumulative_returns.iloc[i] = stop_loss_value\n",
        "                # Assuming we exit the position here, so reset peak_value\n",
        "                peak_value = 1.0\n",
        "\n",
        "        elif current_signal == 'Short':\n",
        "            if trough_value is None or current_return < trough_value:\n",
        "                trough_value = current_return\n",
        "                stop_loss_value = trough_value * (1 + trailing_stop_loss_percent)\n",
        "            elif current_return > stop_loss_value:\n",
        "                updated_cumulative_returns.iloc[i] = stop_loss_value\n",
        "                # Assuming we exit the position here, so reset trough_value\n",
        "                trough_value = 1.0\n",
        "\n",
        "            # Check if current value is above the trailing stop-loss level\n",
        "            if current_return > stop_loss_value:\n",
        "                # Stop-loss triggered for short position\n",
        "                updated_cumulative_returns.iloc[i] = stop_loss_value\n",
        "                # Reset trough value for the next position\n",
        "                if i < len(cumulative_returns) - 1:\n",
        "                    trough_value = updated_cumulative_returns.iloc[i+1]\n",
        "                    stop_loss_value = trough_value * (1 + trailing_stop_loss_percent)\n",
        "\n",
        "        else:\n",
        "            # For other signals, retain the current return value\n",
        "            updated_cumulative_returns.iloc[i] = current_return\n",
        "\n",
        "    return updated_cumulative_returns\n",
        "\n",
        "# Trailing stop-loss percentage (5%)\n",
        "trailing_stop_loss_percent = 0.05\n",
        "\n",
        "# Apply trailing stop-loss strategy to the trading strategy\n",
        "merged_data_final['Cumulative_Returns_TSL'] = apply_trailing_stop_loss_strategy(merged_data_final['Cumulative_Returns_LS'], merged_data_final['Trade_Signal_SPX'], trailing_stop_loss_percent)\n",
        "merged_data_final['Cumulative_Returns_TSL_OnlyL'] = apply_trailing_stop_loss_strategy(merged_data_final['Cumulative_Returns_Long'], merged_data_final['Trade_Signal_SPX'], trailing_stop_loss_percent)\n",
        "merged_data_final['Cumulative_Returns_TSL_OnlyS'] = apply_trailing_stop_loss_strategy(merged_data_final['Cumulative_Returns_Short'], merged_data_final['Trade_Signal_SPX'], trailing_stop_loss_percent)\n"
      ],
      "metadata": {
        "colab": {
          "base_uri": "https://localhost:8080/"
        },
        "id": "tvkV6Xnt7VLi",
        "outputId": "bbcca9f0-5dc9-4682-a9c9-e16e3ef16348"
      },
      "execution_count": 9,
      "outputs": [
        {
          "output_type": "stream",
          "name": "stderr",
          "text": [
            "<ipython-input-9-f1d44ced4e3d>:56: SettingWithCopyWarning: \n",
            "A value is trying to be set on a copy of a slice from a DataFrame.\n",
            "Try using .loc[row_indexer,col_indexer] = value instead\n",
            "\n",
            "See the caveats in the documentation: https://pandas.pydata.org/pandas-docs/stable/user_guide/indexing.html#returning-a-view-versus-a-copy\n",
            "  merged_data_final['Cumulative_Returns_TSL'] = apply_trailing_stop_loss_strategy(merged_data_final['Cumulative_Returns_LS'], merged_data_final['Trade_Signal_SPX'], trailing_stop_loss_percent)\n",
            "<ipython-input-9-f1d44ced4e3d>:57: SettingWithCopyWarning: \n",
            "A value is trying to be set on a copy of a slice from a DataFrame.\n",
            "Try using .loc[row_indexer,col_indexer] = value instead\n",
            "\n",
            "See the caveats in the documentation: https://pandas.pydata.org/pandas-docs/stable/user_guide/indexing.html#returning-a-view-versus-a-copy\n",
            "  merged_data_final['Cumulative_Returns_TSL_OnlyL'] = apply_trailing_stop_loss_strategy(merged_data_final['Cumulative_Returns_Long'], merged_data_final['Trade_Signal_SPX'], trailing_stop_loss_percent)\n",
            "<ipython-input-9-f1d44ced4e3d>:58: SettingWithCopyWarning: \n",
            "A value is trying to be set on a copy of a slice from a DataFrame.\n",
            "Try using .loc[row_indexer,col_indexer] = value instead\n",
            "\n",
            "See the caveats in the documentation: https://pandas.pydata.org/pandas-docs/stable/user_guide/indexing.html#returning-a-view-versus-a-copy\n",
            "  merged_data_final['Cumulative_Returns_TSL_OnlyS'] = apply_trailing_stop_loss_strategy(merged_data_final['Cumulative_Returns_Short'], merged_data_final['Trade_Signal_SPX'], trailing_stop_loss_percent)\n"
          ]
        }
      ]
    },
    {
      "cell_type": "code",
      "source": [
        "cagr = (merged_data_final['Cumulative_Returns_TSL'].iloc[-1] ** (1 / num_years)) - 1\n",
        "merged_data_final['Strategy_Returns_Combined'] = merged_data_final['Cumulative_Returns_TSL'].pct_change().fillna(0)\n",
        "\n",
        "# Calculate the annualized return and standard deviation\n",
        "annualized_return = merged_data_final['Strategy_Returns_Combined'].mean() * 252\n",
        "annualized_std_dev = merged_data_final['Strategy_Returns_Combined'].std() * np.sqrt(252)\n",
        "\n",
        "# Assuming a risk-free rate (e.g., 0.0426 or 4.26%)\n",
        "risk_free_rate = 0.0426\n",
        "\n",
        "# Calculate the Sharpe Ratio\n",
        "sharpe_ratio = (annualized_return - risk_free_rate) / annualized_std_dev\n",
        "annualized_return, annualized_std_dev, cagr, sharpe_ratio"
      ],
      "metadata": {
        "colab": {
          "base_uri": "https://localhost:8080/"
        },
        "id": "YCcCY9NIdXTl",
        "outputId": "9d85c968-191a-4c11-b0a8-dff4a438029b"
      },
      "execution_count": 10,
      "outputs": [
        {
          "output_type": "stream",
          "name": "stderr",
          "text": [
            "<ipython-input-10-6faa4f253f90>:2: SettingWithCopyWarning: \n",
            "A value is trying to be set on a copy of a slice from a DataFrame.\n",
            "Try using .loc[row_indexer,col_indexer] = value instead\n",
            "\n",
            "See the caveats in the documentation: https://pandas.pydata.org/pandas-docs/stable/user_guide/indexing.html#returning-a-view-versus-a-copy\n",
            "  merged_data_final['Strategy_Returns_Combined'] = merged_data_final['Cumulative_Returns_TSL'].pct_change().fillna(0)\n"
          ]
        },
        {
          "output_type": "execute_result",
          "data": {
            "text/plain": [
              "(0.1676096750844324,\n",
              " 0.23634365466398488,\n",
              " 0.1499319111916857,\n",
              " 0.5289318017112051)"
            ]
          },
          "metadata": {},
          "execution_count": 10
        }
      ]
    },
    {
      "cell_type": "code",
      "source": [
        "cagr = (merged_data_final['Cumulative_Returns_TSL_OnlyL'].iloc[-1] ** (1 / num_years)) - 1\n",
        "merged_data_final['Strategy_Returns_Combined_OnlyL'] = merged_data_final['Cumulative_Returns_TSL_OnlyL'].pct_change().fillna(0)\n",
        "\n",
        "# Calculate the annualized return and standard deviation\n",
        "annualized_return = merged_data_final['Strategy_Returns_Combined_OnlyL'].mean() * 252\n",
        "annualized_std_dev = merged_data_final['Strategy_Returns_Combined_OnlyL'].std() * np.sqrt(252)\n",
        "\n",
        "# Assuming a risk-free rate (e.g., 0.0426 or 4.26%)\n",
        "risk_free_rate = 0.0426\n",
        "\n",
        "# Calculate the Sharpe Ratio\n",
        "sharpe_ratio = (annualized_return - risk_free_rate) / annualized_std_dev\n",
        "annualized_return, annualized_std_dev, cagr, sharpe_ratio"
      ],
      "metadata": {
        "colab": {
          "base_uri": "https://localhost:8080/"
        },
        "id": "KFlZgkgiRMz0",
        "outputId": "2720699e-3459-41ad-f488-17610ee639d0"
      },
      "execution_count": 11,
      "outputs": [
        {
          "output_type": "stream",
          "name": "stderr",
          "text": [
            "<ipython-input-11-252daf414b17>:2: SettingWithCopyWarning: \n",
            "A value is trying to be set on a copy of a slice from a DataFrame.\n",
            "Try using .loc[row_indexer,col_indexer] = value instead\n",
            "\n",
            "See the caveats in the documentation: https://pandas.pydata.org/pandas-docs/stable/user_guide/indexing.html#returning-a-view-versus-a-copy\n",
            "  merged_data_final['Strategy_Returns_Combined_OnlyL'] = merged_data_final['Cumulative_Returns_TSL_OnlyL'].pct_change().fillna(0)\n"
          ]
        },
        {
          "output_type": "execute_result",
          "data": {
            "text/plain": [
              "(0.13555240780384242,\n",
              " 0.21832327254826212,\n",
              " 0.11816568696824814,\n",
              " 0.42575583774878856)"
            ]
          },
          "metadata": {},
          "execution_count": 11
        }
      ]
    },
    {
      "cell_type": "code",
      "source": [
        "cagr = (merged_data_final['Cumulative_Returns_TSL_OnlyS'].iloc[-1] ** (1 / num_years)) - 1\n",
        "merged_data_final['Strategy_Returns_Combined_OnlyS'] = merged_data_final['Cumulative_Returns_TSL_OnlyS'].pct_change().fillna(0)\n",
        "\n",
        "# Calculate the annualized return and standard deviation\n",
        "annualized_return = merged_data_final['Strategy_Returns_Combined_OnlyS'].mean() * 252\n",
        "annualized_std_dev = merged_data_final['Strategy_Returns_Combined_OnlyS'].std() * np.sqrt(252)\n",
        "\n",
        "# Assuming a risk-free rate (e.g., 0.0426 or 4.26%)\n",
        "risk_free_rate = 0.0426\n",
        "\n",
        "# Calculate the Sharpe Ratio\n",
        "sharpe_ratio = (annualized_return - risk_free_rate) / annualized_std_dev\n",
        "annualized_return, annualized_std_dev, cagr, sharpe_ratio"
      ],
      "metadata": {
        "colab": {
          "base_uri": "https://localhost:8080/"
        },
        "id": "HrW-XPOPSw7n",
        "outputId": "6b8b3407-133e-4597-b199-ab4a1db16300"
      },
      "execution_count": 12,
      "outputs": [
        {
          "output_type": "stream",
          "name": "stderr",
          "text": [
            "<ipython-input-12-f8117c4abbb8>:2: SettingWithCopyWarning: \n",
            "A value is trying to be set on a copy of a slice from a DataFrame.\n",
            "Try using .loc[row_indexer,col_indexer] = value instead\n",
            "\n",
            "See the caveats in the documentation: https://pandas.pydata.org/pandas-docs/stable/user_guide/indexing.html#returning-a-view-versus-a-copy\n",
            "  merged_data_final['Strategy_Returns_Combined_OnlyS'] = merged_data_final['Cumulative_Returns_TSL_OnlyS'].pct_change().fillna(0)\n"
          ]
        },
        {
          "output_type": "execute_result",
          "data": {
            "text/plain": [
              "(0.04350856286230002,\n",
              " 0.17662090811947634,\n",
              " 0.028409228250928953,\n",
              " 0.005144141041814905)"
            ]
          },
          "metadata": {},
          "execution_count": 12
        }
      ]
    },
    {
      "cell_type": "code",
      "source": [
        "cagr = (merged_data_final['SP500_Cumulative_Returns'].iloc[-1] ** (1 / num_years)) - 1\n",
        "merged_data_final['Strategy_Returns_SPX'] = merged_data_final['SP500_Cumulative_Returns'].pct_change().fillna(0)\n",
        "\n",
        "# Calculate the annualized return and standard deviation\n",
        "annualized_return = merged_data_final['SP500_Returns'].mean() * 252\n",
        "annualized_std_dev = merged_data_final['SP500_Returns'].std() * np.sqrt(252)\n",
        "\n",
        "# Assuming a risk-free rate (e.g., 0.0426 or 4.26%)\n",
        "risk_free_rate = 0.0426\n",
        "\n",
        "# Calculate the Sharpe Ratio\n",
        "sharpe_ratio = (annualized_return - risk_free_rate) / annualized_std_dev\n",
        "annualized_return, annualized_std_dev, cagr, sharpe_ratio"
      ],
      "metadata": {
        "colab": {
          "base_uri": "https://localhost:8080/"
        },
        "id": "yzPBPjWFdYGP",
        "outputId": "be1a0f9a-159b-40f4-9aba-a95ce7dde061"
      },
      "execution_count": 13,
      "outputs": [
        {
          "output_type": "stream",
          "name": "stderr",
          "text": [
            "<ipython-input-13-12fb6d538930>:2: SettingWithCopyWarning: \n",
            "A value is trying to be set on a copy of a slice from a DataFrame.\n",
            "Try using .loc[row_indexer,col_indexer] = value instead\n",
            "\n",
            "See the caveats in the documentation: https://pandas.pydata.org/pandas-docs/stable/user_guide/indexing.html#returning-a-view-versus-a-copy\n",
            "  merged_data_final['Strategy_Returns_SPX'] = merged_data_final['SP500_Cumulative_Returns'].pct_change().fillna(0)\n"
          ]
        },
        {
          "output_type": "execute_result",
          "data": {
            "text/plain": [
              "(0.09152936653612352,\n",
              " 0.2056843274365392,\n",
              " 0.07279255349368863,\n",
              " 0.2378857307502923)"
            ]
          },
          "metadata": {},
          "execution_count": 13
        }
      ]
    },
    {
      "cell_type": "code",
      "source": [
        "max_drawdown = calculate_max_drawdown(merged_data_final['Cumulative_Returns_TSL'])\n",
        "max_drawdown_percentage = max_drawdown * 100  # Convert to percentage\n",
        "\n",
        "max_drawdown_percentage"
      ],
      "metadata": {
        "colab": {
          "base_uri": "https://localhost:8080/"
        },
        "id": "6cSHcptACLpC",
        "outputId": "9c1a6cfa-816f-4f8a-bfda-ee1c0c069242"
      },
      "execution_count": 14,
      "outputs": [
        {
          "output_type": "execute_result",
          "data": {
            "text/plain": [
              "-26.971611807109074"
            ]
          },
          "metadata": {},
          "execution_count": 14
        }
      ]
    },
    {
      "cell_type": "code",
      "source": [
        "max_drawdown = calculate_max_drawdown(merged_data_final['SP500_Cumulative_Returns'])\n",
        "max_drawdown_percentage = max_drawdown * 100  # Convert to percentage\n",
        "\n",
        "max_drawdown_percentage"
      ],
      "metadata": {
        "colab": {
          "base_uri": "https://localhost:8080/"
        },
        "id": "_oDThuiSgXPA",
        "outputId": "0e29e87a-3531-413d-b674-de056a8c87e0"
      },
      "execution_count": 15,
      "outputs": [
        {
          "output_type": "execute_result",
          "data": {
            "text/plain": [
              "-53.25119453927664"
            ]
          },
          "metadata": {},
          "execution_count": 15
        }
      ]
    },
    {
      "cell_type": "code",
      "source": [
        "max_drawdown = calculate_max_drawdown(merged_data_final['Cumulative_Returns_TSL_OnlyL'])\n",
        "max_drawdown_percentage = max_drawdown * 100  # Convert to percentage\n",
        "\n",
        "max_drawdown_percentage"
      ],
      "metadata": {
        "colab": {
          "base_uri": "https://localhost:8080/"
        },
        "id": "tygzkEs4R9KU",
        "outputId": "10fe22d0-9642-465f-b77c-4e2a6815afcd"
      },
      "execution_count": 16,
      "outputs": [
        {
          "output_type": "execute_result",
          "data": {
            "text/plain": [
              "-20.14632089844744"
            ]
          },
          "metadata": {},
          "execution_count": 16
        }
      ]
    },
    {
      "cell_type": "code",
      "source": [
        "max_drawdown = calculate_max_drawdown(merged_data_final['Cumulative_Returns_TSL_OnlyS'])\n",
        "max_drawdown_percentage = max_drawdown * 100  # Convert to percentage\n",
        "\n",
        "max_drawdown_percentage"
      ],
      "metadata": {
        "colab": {
          "base_uri": "https://localhost:8080/"
        },
        "id": "fh6ZPs2ES_e1",
        "outputId": "80c4fe81-ddf8-4614-9d31-e10ebf6bcdec"
      },
      "execution_count": 17,
      "outputs": [
        {
          "output_type": "execute_result",
          "data": {
            "text/plain": [
              "-26.860888271747164"
            ]
          },
          "metadata": {},
          "execution_count": 17
        }
      ]
    },
    {
      "cell_type": "code",
      "source": [
        "# Plotting the cumulative returns with trailing stop-loss strategy\n",
        "plt.figure(figsize=(12, 8))\n",
        "plt.plot(merged_data_final['Date'], merged_data_final['SP500_Cumulative_Returns'], label='S&P 500', color='orange')\n",
        "plt.plot(merged_data_final['Date'], merged_data_final['Cumulative_Returns_TSL_OnlyL'], label='PVES Long Only', color='green')\n",
        "plt.plot(merged_data_final['Date'], merged_data_final['Cumulative_Returns_TSL_OnlyS'], label='PVES Short Only', color='red')\n",
        "plt.plot(merged_data_final['Date'], merged_data_final['Cumulative_Returns_TSL'], label='PVES (L/S)', color='blue')\n",
        "plt.xlabel('Date')\n",
        "plt.ylabel('Cumulative Returns')\n",
        "plt.title('Cumulative Returns for S&P 500 and PVES')\n",
        "plt.legend()\n",
        "plt.grid(True)\n",
        "plt.show()"
      ],
      "metadata": {
        "colab": {
          "base_uri": "https://localhost:8080/",
          "height": 718
        },
        "id": "RQzO9pt_7YYE",
        "outputId": "ea8f39df-aaa3-4405-ca3d-e06a40bf27dd"
      },
      "execution_count": 18,
      "outputs": [
        {
          "output_type": "display_data",
          "data": {
            "text/plain": [
              "<Figure size 1200x800 with 1 Axes>"
            ],
            "image/png": "[encoded data removed]"
          },
          "metadata": {}
        }
      ]
    },
    {
      "cell_type": "code",
      "source": [
        "import pandas as pd\n",
        "import statsmodels.api as sm\n",
        "from statsmodels.regression.rolling import RollingOLS\n",
        "from statsmodels.stats.diagnostic import het_white\n",
        "\n",
        "def newey_west_analysis(strategy_returns, benchmark_returns):\n",
        "    # Ensure that the data is in DataFrame format and align the indices\n",
        "    strategy_df = pd.DataFrame(strategy_returns, columns=['Strategy_Returns_Combined'])\n",
        "    benchmark_df = pd.DataFrame(benchmark_returns, columns=['Strategy_Returns_SPX'])\n",
        "    combined_df = strategy_df.join(benchmark_df, how='inner')\n",
        "\n",
        "    # Define the independent variable (benchmark returns) and add a constant\n",
        "    X = combined_df['Strategy_Returns_SPX']\n",
        "    X = sm.add_constant(X)\n",
        "\n",
        "    # Define the dependent variable (strategy returns)\n",
        "    Y = combined_df['Strategy_Returns_Combined']\n",
        "\n",
        "    # Perform the regression using Newey-West standard errors\n",
        "    model = sm.OLS(Y, X).fit(cov_type='HAC',cov_kwds={'maxlags':1})\n",
        "\n",
        "    # Output the summary of the regression\n",
        "    return model.summary()\n",
        "\n",
        "# Example usage\n",
        "strategy_returns = merged_data_final\n",
        "benchmark_returns = merged_data_final\n",
        "result = newey_west_analysis(strategy_returns, benchmark_returns)\n",
        "print(result)"
      ],
      "metadata": {
        "colab": {
          "base_uri": "https://localhost:8080/"
        },
        "id": "UWsMhUBd7aK2",
        "outputId": "43600deb-6595-415f-854f-8a4dcd73a680"
      },
      "execution_count": 19,
      "outputs": [
        {
          "output_type": "stream",
          "name": "stdout",
          "text": [
            "                                OLS Regression Results                               \n",
            "=====================================================================================\n",
            "Dep. Variable:     Strategy_Returns_Combined   R-squared:                       0.209\n",
            "Model:                                   OLS   Adj. R-squared:                  0.209\n",
            "Method:                        Least Squares   F-statistic:                     110.8\n",
            "Date:                       Wed, 27 Mar 2024   Prob (F-statistic):           1.42e-25\n",
            "Time:                               05:39:12   Log-Likelihood:                 11608.\n",
            "No. Observations:                       3995   AIC:                        -2.321e+04\n",
            "Df Residuals:                           3993   BIC:                        -2.320e+04\n",
            "Df Model:                                  1                                         \n",
            "Covariance Type:                         HAC                                         \n",
            "========================================================================================\n",
            "                           coef    std err          z      P>|z|      [0.025      0.975]\n",
            "----------------------------------------------------------------------------------------\n",
            "const                    0.0005      0.000      2.696      0.007       0.000       0.001\n",
            "Strategy_Returns_SPX     0.5254      0.050     10.526      0.000       0.428       0.623\n",
            "==============================================================================\n",
            "Omnibus:                     1490.228   Durbin-Watson:                   2.674\n",
            "Prob(Omnibus):                  0.000   Jarque-Bera (JB):            44983.123\n",
            "Skew:                           1.156   Prob(JB):                         0.00\n",
            "Kurtosis:                      19.276   Cond. No.                         77.2\n",
            "==============================================================================\n",
            "\n",
            "Notes:\n",
            "[1] Standard Errors are heteroscedasticity and autocorrelation robust (HAC) using 1 lags and without small sample correction\n"
          ]
        }
      ]
    },
    {
      "cell_type": "code",
      "source": [
        "def newey_west_analysis(strategy_returns, benchmark_returns):\n",
        "    # Ensure that the data is in DataFrame format and align the indices\n",
        "    strategy_df = pd.DataFrame(strategy_returns, columns=['Strategy_Returns_Combined_OnlyL'])\n",
        "    benchmark_df = pd.DataFrame(benchmark_returns, columns=['Strategy_Returns_SPX'])\n",
        "    combined_df = strategy_df.join(benchmark_df, how='inner')\n",
        "\n",
        "    # Define the independent variable (benchmark returns) and add a constant\n",
        "    X = combined_df['Strategy_Returns_SPX']\n",
        "    X = sm.add_constant(X)\n",
        "\n",
        "    # Define the dependent variable (strategy returns)\n",
        "    Y = combined_df['Strategy_Returns_Combined_OnlyL']\n",
        "\n",
        "    # Perform the regression using Newey-West standard errors\n",
        "    model = sm.OLS(Y, X).fit(cov_type='HAC',cov_kwds={'maxlags':1})\n",
        "\n",
        "    # Output the summary of the regression\n",
        "    return model.summary()\n",
        "\n",
        "# Example usage\n",
        "strategy_returns = merged_data_final\n",
        "benchmark_returns = merged_data_final\n",
        "result = newey_west_analysis(strategy_returns, benchmark_returns)\n",
        "print(result)"
      ],
      "metadata": {
        "colab": {
          "base_uri": "https://localhost:8080/"
        },
        "id": "lKabCnwC28Sw",
        "outputId": "e0b50768-6bea-44c0-cf4a-1639d82c1586"
      },
      "execution_count": 20,
      "outputs": [
        {
          "output_type": "stream",
          "name": "stdout",
          "text": [
            "                                   OLS Regression Results                                  \n",
            "===========================================================================================\n",
            "Dep. Variable:     Strategy_Returns_Combined_OnlyL   R-squared:                       0.212\n",
            "Model:                                         OLS   Adj. R-squared:                  0.212\n",
            "Method:                              Least Squares   F-statistic:                     162.3\n",
            "Date:                             Wed, 27 Mar 2024   Prob (F-statistic):           1.77e-36\n",
            "Time:                                     05:39:12   Log-Likelihood:                 11932.\n",
            "No. Observations:                             3995   AIC:                        -2.386e+04\n",
            "Df Residuals:                                 3993   BIC:                        -2.385e+04\n",
            "Df Model:                                        1                                         \n",
            "Covariance Type:                               HAC                                         \n",
            "========================================================================================\n",
            "                           coef    std err          z      P>|z|      [0.025      0.975]\n",
            "----------------------------------------------------------------------------------------\n",
            "const                    0.0004      0.000      2.410      0.016    6.73e-05       0.001\n",
            "Strategy_Returns_SPX     0.4886      0.038     12.741      0.000       0.413       0.564\n",
            "==============================================================================\n",
            "Omnibus:                     1107.927   Durbin-Watson:                   2.817\n",
            "Prob(Omnibus):                  0.000   Jarque-Bera (JB):            54868.258\n",
            "Skew:                           0.520   Prob(JB):                         0.00\n",
            "Kurtosis:                      21.126   Cond. No.                         77.2\n",
            "==============================================================================\n",
            "\n",
            "Notes:\n",
            "[1] Standard Errors are heteroscedasticity and autocorrelation robust (HAC) using 1 lags and without small sample correction\n"
          ]
        }
      ]
    },
    {
      "cell_type": "code",
      "source": [
        "def newey_west_analysis(strategy_returns, benchmark_returns):\n",
        "    # Ensure that the data is in DataFrame format and align the indices\n",
        "    strategy_df = pd.DataFrame(strategy_returns, columns=['Strategy_Returns_Combined_OnlyS'])\n",
        "    benchmark_df = pd.DataFrame(benchmark_returns, columns=['Strategy_Returns_SPX'])\n",
        "    combined_df = strategy_df.join(benchmark_df, how='inner')\n",
        "\n",
        "    # Define the independent variable (benchmark returns) and add a constant\n",
        "    X = combined_df['Strategy_Returns_SPX']\n",
        "    X = sm.add_constant(X)\n",
        "\n",
        "    # Define the dependent variable (strategy returns)\n",
        "    Y = combined_df['Strategy_Returns_Combined_OnlyS']\n",
        "\n",
        "    # Perform the regression using Newey-West standard errors\n",
        "    model = sm.OLS(Y, X).fit(cov_type='HAC',cov_kwds={'maxlags':1})\n",
        "\n",
        "    # Output the summary of the regression\n",
        "    return model.summary()\n",
        "\n",
        "# Example usage\n",
        "strategy_returns = merged_data_final\n",
        "benchmark_returns = merged_data_final\n",
        "result = newey_west_analysis(strategy_returns, benchmark_returns)\n",
        "print(result)"
      ],
      "metadata": {
        "colab": {
          "base_uri": "https://localhost:8080/"
        },
        "id": "uU_YSlSH2raE",
        "outputId": "adffa3cf-5fb6-4bfc-e893-b51c724e65b1"
      },
      "execution_count": 21,
      "outputs": [
        {
          "output_type": "stream",
          "name": "stdout",
          "text": [
            "                                   OLS Regression Results                                  \n",
            "===========================================================================================\n",
            "Dep. Variable:     Strategy_Returns_Combined_OnlyS   R-squared:                       0.032\n",
            "Model:                                         OLS   Adj. R-squared:                  0.032\n",
            "Method:                              Least Squares   F-statistic:                     47.56\n",
            "Date:                             Wed, 27 Mar 2024   Prob (F-statistic):           6.17e-12\n",
            "Time:                                     05:39:12   Log-Likelihood:                 12368.\n",
            "No. Observations:                             3995   AIC:                        -2.473e+04\n",
            "Df Residuals:                                 3993   BIC:                        -2.472e+04\n",
            "Df Model:                                        1                                         \n",
            "Covariance Type:                               HAC                                         \n",
            "========================================================================================\n",
            "                           coef    std err          z      P>|z|      [0.025      0.975]\n",
            "----------------------------------------------------------------------------------------\n",
            "const                    0.0002      0.000      1.800      0.072   -2.03e-05       0.000\n",
            "Strategy_Returns_SPX    -0.1538      0.022     -6.897      0.000      -0.198      -0.110\n",
            "==============================================================================\n",
            "Omnibus:                     1569.282   Durbin-Watson:                   2.961\n",
            "Prob(Omnibus):                  0.000   Jarque-Bera (JB):            78855.452\n",
            "Skew:                           1.104   Prob(JB):                         0.00\n",
            "Kurtosis:                      24.653   Cond. No.                         77.2\n",
            "==============================================================================\n",
            "\n",
            "Notes:\n",
            "[1] Standard Errors are heteroscedasticity and autocorrelation robust (HAC) using 1 lags and without small sample correction\n"
          ]
        }
      ]
    }
  ]
}